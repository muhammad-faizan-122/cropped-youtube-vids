{
  "cells": [
    {
      "cell_type": "code",
      "execution_count": null,
      "metadata": {
        "id": "0S2LrcDXSvFq"
      },
      "outputs": [],
      "source": [
        "!pip install pytube\n",
        "!pip install moviepy\n",
        "!pip install tqdm\n",
        "!pip install pandas"
      ]
    },
    {
      "cell_type": "code",
      "execution_count": 3,
      "metadata": {
        "id": "hKjQq-SNSyH6"
      },
      "outputs": [],
      "source": [
        "import pytube\n",
        "import os\n",
        "import moviepy.editor as mp\n",
        "import pandas as pd"
      ]
    },
    {
      "cell_type": "code",
      "execution_count": 7,
      "metadata": {
        "id": "Skodxz49TELd"
      },
      "outputs": [],
      "source": [
        "def crop_youtube_videos(resolution='720p', bitrate='8M'):\n",
        "    for link, file_name, start, end in zip(links, file_names, starts, ends):\n",
        "        try:\n",
        "            print(link, file_name, start, end)\n",
        "            youtube = pytube.YouTube(link)\n",
        "            video = youtube.streams.filter(res=resolution).first()\n",
        "            video.download()\n",
        "            filename = video.default_filename\n",
        "            video_clip = mp.VideoFileClip(filename).subclip(start, end)\n",
        "            output_path = os.path.join(output_cropped, f\"{file_name}.mp4\")\n",
        "            video_clip.write_videofile(output_path, bitrate=bitrate)\n",
        "            print(f\"Cropped video saved as {file_name}\")\n",
        "            video_clip.close()\n",
        "            os.remove(filename)\n",
        "        except Exception as e:\n",
        "            print(f\"Error processing video {link}: {e}\")\n",
        "\n",
        "\n",
        "inp_csv_file = \"/content/merged_deepFake-youtube-vids.csv\"\n",
        "output_cropped = \"/content/sample_data/cropped_fake_vids\"\n",
        "fake_vids_df = pd.read_csv(inp_csv_file)\n",
        "links, file_names = fake_vids_df['video'].values, fake_vids_df['video_name'].values\n",
        "starts, ends = fake_vids_df['start'].values, fake_vids_df['end'].values"
      ]
    },
    {
      "cell_type": "code",
      "execution_count": null,
      "metadata": {
        "colab": {
          "base_uri": "https://localhost:8080/",
          "height": 1000
        },
        "id": "v0TfbqRVTH5G",
        "outputId": "83609e61-b3ae-4495-b70b-cef17b64b858"
      },
      "outputs": [],
      "source": [
        "crop_youtube_videos()"
      ]
    },
    {
      "cell_type": "code",
      "execution_count": null,
      "metadata": {
        "id": "f9e3HDWBT7xC"
      },
      "outputs": [],
      "source": []
    }
  ],
  "metadata": {
    "colab": {
      "provenance": []
    },
    "kernelspec": {
      "display_name": "Python 3",
      "name": "python3"
    },
    "language_info": {
      "name": "python"
    }
  },
  "nbformat": 4,
  "nbformat_minor": 0
}
